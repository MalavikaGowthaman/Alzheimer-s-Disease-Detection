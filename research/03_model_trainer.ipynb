{
 "cells": [
  {
   "cell_type": "code",
   "execution_count": 1,
   "metadata": {},
   "outputs": [],
   "source": [
    "import os\n"
   ]
  },
  {
   "cell_type": "code",
   "execution_count": 2,
   "metadata": {},
   "outputs": [
    {
     "data": {
      "text/plain": [
       "'d:\\\\HOPE\\\\Projects\\\\Alzheimer-s-Disease-Detection\\\\research'"
      ]
     },
     "execution_count": 2,
     "metadata": {},
     "output_type": "execute_result"
    }
   ],
   "source": [
    "%pwd\n"
   ]
  },
  {
   "cell_type": "code",
   "execution_count": 3,
   "metadata": {},
   "outputs": [],
   "source": [
    "os.chdir(\"../\")\n"
   ]
  },
  {
   "cell_type": "code",
   "execution_count": 4,
   "metadata": {},
   "outputs": [
    {
     "data": {
      "text/plain": [
       "'d:\\\\HOPE\\\\Projects\\\\Alzheimer-s-Disease-Detection'"
      ]
     },
     "execution_count": 4,
     "metadata": {},
     "output_type": "execute_result"
    }
   ],
   "source": [
    "%pwd\n"
   ]
  },
  {
   "cell_type": "code",
   "execution_count": 5,
   "metadata": {},
   "outputs": [],
   "source": [
    "\n",
    "from dataclasses import dataclass\n",
    "from pathlib import Path\n",
    "\n",
    "\n",
    "@dataclass(frozen=True)\n",
    "class TrainingConfig:\n",
    "    root_dir: Path\n",
    "    trained_model_path: Path\n",
    "    updated_base_model_path: Path\n",
    "    training_data: Path\n",
    "    params_epochs: int\n",
    "    params_batch_size: int\n",
    "    params_is_augmentation: bool\n",
    "    params_image_size: list"
   ]
  },
  {
   "cell_type": "code",
   "execution_count": 6,
   "metadata": {},
   "outputs": [],
   "source": [
    "from classifier.constants import *\n",
    "from classifier.utils.common import read_yaml, create_directories\n",
    "import tensorflow as tf"
   ]
  },
  {
   "cell_type": "code",
   "execution_count": 7,
   "metadata": {},
   "outputs": [],
   "source": [
    "class ConfigurationManager:\n",
    "    def __init__(\n",
    "        self,\n",
    "        config_filepath = CONFIG_FILE_PATH,\n",
    "        params_filepath = PARAMS_FILE_PATH):\n",
    "\n",
    "        self.config = read_yaml(config_filepath)\n",
    "        self.params = read_yaml(params_filepath)\n",
    "\n",
    "        create_directories([self.config.artifacts_root])\n",
    "\n",
    "        \n",
    "\n",
    "    def get_training_config(self) -> TrainingConfig:\n",
    "        training = self.config.training\n",
    "        prepare_base_model = self.config.prepare_base_model\n",
    "        params = self.params\n",
    "        training_data = os.path.join(self.config.data_ingestion.unzip_dir, \"train\")\n",
    "        create_directories([\n",
    "            Path(training.root_dir)\n",
    "        ])\n",
    "\n",
    "        training_config = TrainingConfig(\n",
    "            root_dir=Path(training.root_dir),\n",
    "            trained_model_path=Path(training.trained_model_path),\n",
    "            updated_base_model_path=Path(prepare_base_model.updated_base_model_path),\n",
    "            training_data=Path(training_data),\n",
    "            params_epochs=params.EPOCHS,\n",
    "            params_batch_size=params.BATCH_SIZE,\n",
    "            params_is_augmentation=params.AUGMENTATION,\n",
    "            params_image_size=params.IMAGE_SIZE\n",
    "        )\n",
    "\n",
    "        return training_config"
   ]
  },
  {
   "cell_type": "code",
   "execution_count": 8,
   "metadata": {},
   "outputs": [],
   "source": [
    "import os\n",
    "import urllib.request as request\n",
    "from zipfile import ZipFile\n",
    "import tensorflow as tf\n",
    "import time"
   ]
  },
  {
   "cell_type": "code",
   "execution_count": 9,
   "metadata": {},
   "outputs": [],
   "source": [
    "class Training:\n",
    "    def __init__(self, config: TrainingConfig):\n",
    "        self.config = config\n",
    "\n",
    "    \n",
    "    def get_base_model(self):\n",
    "        self.model = tf.keras.models.load_model(\n",
    "            self.config.updated_base_model_path\n",
    "        )\n",
    "\n",
    "    def train_valid_generator(self):\n",
    "\n",
    "        datagenerator_kwargs = dict(\n",
    "            rescale = 1./255,\n",
    "            validation_split=0.20\n",
    "        )\n",
    "\n",
    "        dataflow_kwargs = dict(\n",
    "            target_size=self.config.params_image_size[:-1],\n",
    "            batch_size=self.config.params_batch_size,\n",
    "            interpolation=\"bilinear\"\n",
    "        )\n",
    "\n",
    "        valid_datagenerator = tf.keras.preprocessing.image.ImageDataGenerator(\n",
    "            **datagenerator_kwargs\n",
    "        )\n",
    "\n",
    "        self.valid_generator = valid_datagenerator.flow_from_directory(\n",
    "            directory=self.config.training_data,\n",
    "            subset=\"validation\",\n",
    "            shuffle=False,\n",
    "            **dataflow_kwargs\n",
    "        )\n",
    "        if self.config.params_is_augmentation:\n",
    "            train_datagenerator = tf.keras.preprocessing.image.ImageDataGenerator(\n",
    "                rotation_range=40,\n",
    "                horizontal_flip=True,\n",
    "                width_shift_range=0.2,\n",
    "                height_shift_range=0.2,\n",
    "                shear_range=0.2,\n",
    "                zoom_range=0.2,\n",
    "                **datagenerator_kwargs\n",
    "            )\n",
    "        else:\n",
    "            train_datagenerator = valid_datagenerator\n",
    "\n",
    "        self.train_generator = train_datagenerator.flow_from_directory(\n",
    "            directory=self.config.training_data,\n",
    "            subset=\"training\",\n",
    "            shuffle=True,\n",
    "            **dataflow_kwargs\n",
    "        )\n",
    "\n",
    "    \n",
    "    @staticmethod\n",
    "    def save_model(path: Path, model: tf.keras.Model):\n",
    "        model.save(path)\n",
    "\n",
    "\n",
    "\n",
    "    \n",
    "    def train(self):\n",
    "        self.steps_per_epoch = self.train_generator.samples // self.train_generator.batch_size\n",
    "        self.validation_steps = self.valid_generator.samples // self.valid_generator.batch_size\n",
    "\n",
    "        self.model.fit(\n",
    "            self.train_generator,\n",
    "            epochs=self.config.params_epochs,\n",
    "            steps_per_epoch=self.steps_per_epoch,\n",
    "            validation_steps=self.validation_steps,\n",
    "            validation_data=self.valid_generator\n",
    "        )\n",
    "\n",
    "        self.save_model(\n",
    "            path=self.config.trained_model_path,\n",
    "            model=self.model\n",
    "        )"
   ]
  },
  {
   "cell_type": "code",
   "execution_count": 10,
   "metadata": {},
   "outputs": [
    {
     "name": "stdout",
     "output_type": "stream",
     "text": [
      "[2024-09-30 09:34:43,705:INFO:common:created directory at: artifacts]\n",
      "[2024-09-30 09:34:43,708:INFO:common:created directory at: artifacts\\training]\n",
      "Found 540 images belonging to 4 classes.\n",
      "Found 2168 images belonging to 4 classes.\n",
      "Epoch 1/50\n",
      "135/135 [==============================] - 347s 3s/step - loss: 40.1544 - accuracy: 0.3838 - val_loss: 24.0830 - val_accuracy: 0.2083\n",
      "Epoch 2/50\n",
      "135/135 [==============================] - 347s 3s/step - loss: 37.7404 - accuracy: 0.3908 - val_loss: 26.4003 - val_accuracy: 0.1004\n",
      "Epoch 3/50\n",
      "135/135 [==============================] - 351s 3s/step - loss: 34.7844 - accuracy: 0.3973 - val_loss: 69.1907 - val_accuracy: 0.4659\n",
      "Epoch 4/50\n",
      "135/135 [==============================] - 346s 3s/step - loss: 30.5075 - accuracy: 0.4261 - val_loss: 16.2146 - val_accuracy: 0.2178\n",
      "Epoch 5/50\n",
      "135/135 [==============================] - 347s 3s/step - loss: 24.7964 - accuracy: 0.4633 - val_loss: 25.1066 - val_accuracy: 0.3314\n",
      "Epoch 6/50\n",
      "135/135 [==============================] - 350s 3s/step - loss: 24.0733 - accuracy: 0.4614 - val_loss: 28.2065 - val_accuracy: 0.3902\n",
      "Epoch 7/50\n",
      "135/135 [==============================] - 343s 3s/step - loss: 21.7789 - accuracy: 0.4963 - val_loss: 20.3555 - val_accuracy: 0.3049\n",
      "Epoch 8/50\n",
      "135/135 [==============================] - 335s 2s/step - loss: 23.8335 - accuracy: 0.4572 - val_loss: 52.3417 - val_accuracy: 0.3220\n",
      "Epoch 9/50\n",
      "135/135 [==============================] - 354s 3s/step - loss: 21.1128 - accuracy: 0.5023 - val_loss: 37.3611 - val_accuracy: 0.3731\n",
      "Epoch 10/50\n",
      "135/135 [==============================] - 332s 2s/step - loss: 21.1447 - accuracy: 0.5051 - val_loss: 39.4774 - val_accuracy: 0.2292\n",
      "Epoch 11/50\n",
      "135/135 [==============================] - 241s 2s/step - loss: 16.9585 - accuracy: 0.5372 - val_loss: 48.5659 - val_accuracy: 0.3068\n",
      "Epoch 12/50\n",
      "135/135 [==============================] - 225s 2s/step - loss: 19.7573 - accuracy: 0.5102 - val_loss: 31.2409 - val_accuracy: 0.2121\n",
      "Epoch 13/50\n",
      "135/135 [==============================] - 226s 2s/step - loss: 18.4129 - accuracy: 0.5344 - val_loss: 48.4863 - val_accuracy: 0.3333\n",
      "Epoch 14/50\n",
      "135/135 [==============================] - 222s 2s/step - loss: 19.3457 - accuracy: 0.5116 - val_loss: 34.6902 - val_accuracy: 0.3239\n",
      "Epoch 15/50\n",
      "135/135 [==============================] - 219s 2s/step - loss: 16.1841 - accuracy: 0.5446 - val_loss: 30.3010 - val_accuracy: 0.3561\n",
      "Epoch 16/50\n",
      "135/135 [==============================] - 219s 2s/step - loss: 18.1511 - accuracy: 0.5302 - val_loss: 45.3472 - val_accuracy: 0.4564\n",
      "Epoch 17/50\n",
      "135/135 [==============================] - 693s 5s/step - loss: 16.5552 - accuracy: 0.5458 - val_loss: 43.4363 - val_accuracy: 0.4489\n",
      "Epoch 18/50\n",
      "135/135 [==============================] - 249s 2s/step - loss: 17.8720 - accuracy: 0.5455 - val_loss: 46.6864 - val_accuracy: 0.4186\n",
      "Epoch 19/50\n",
      "135/135 [==============================] - 242s 2s/step - loss: 15.5963 - accuracy: 0.5595 - val_loss: 74.5442 - val_accuracy: 0.3220\n",
      "Epoch 20/50\n",
      "135/135 [==============================] - 227s 2s/step - loss: 14.5489 - accuracy: 0.5609 - val_loss: 27.1199 - val_accuracy: 0.2670\n",
      "Epoch 21/50\n",
      "135/135 [==============================] - 222s 2s/step - loss: 14.9624 - accuracy: 0.5711 - val_loss: 35.1877 - val_accuracy: 0.4356\n",
      "Epoch 22/50\n",
      "135/135 [==============================] - 222s 2s/step - loss: 16.1393 - accuracy: 0.5511 - val_loss: 43.2745 - val_accuracy: 0.3428\n",
      "Epoch 23/50\n",
      "135/135 [==============================] - 221s 2s/step - loss: 16.8040 - accuracy: 0.5358 - val_loss: 35.4690 - val_accuracy: 0.3220\n",
      "Epoch 24/50\n",
      "135/135 [==============================] - 220s 2s/step - loss: 14.6181 - accuracy: 0.5832 - val_loss: 33.9088 - val_accuracy: 0.1591\n",
      "Epoch 25/50\n",
      "135/135 [==============================] - 222s 2s/step - loss: 14.6498 - accuracy: 0.5544 - val_loss: 53.7449 - val_accuracy: 0.1458\n",
      "Epoch 26/50\n",
      "135/135 [==============================] - 229s 2s/step - loss: 14.9078 - accuracy: 0.5730 - val_loss: 37.1084 - val_accuracy: 0.3333\n",
      "Epoch 27/50\n",
      "135/135 [==============================] - 227s 2s/step - loss: 14.4181 - accuracy: 0.5711 - val_loss: 47.7972 - val_accuracy: 0.2330\n",
      "Epoch 28/50\n",
      "135/135 [==============================] - 231s 2s/step - loss: 14.5056 - accuracy: 0.5720 - val_loss: 59.3466 - val_accuracy: 0.1875\n",
      "Epoch 29/50\n",
      "135/135 [==============================] - 228s 2s/step - loss: 13.9360 - accuracy: 0.5776 - val_loss: 31.6086 - val_accuracy: 0.2973\n",
      "Epoch 30/50\n",
      "135/135 [==============================] - 230s 2s/step - loss: 16.2048 - accuracy: 0.5595 - val_loss: 33.5366 - val_accuracy: 0.3125\n",
      "Epoch 31/50\n",
      "135/135 [==============================] - 235s 2s/step - loss: 13.3511 - accuracy: 0.5790 - val_loss: 29.4968 - val_accuracy: 0.2689\n",
      "Epoch 32/50\n",
      "135/135 [==============================] - 231s 2s/step - loss: 13.4494 - accuracy: 0.5641 - val_loss: 29.4679 - val_accuracy: 0.3295\n",
      "Epoch 33/50\n",
      "135/135 [==============================] - 230s 2s/step - loss: 17.2772 - accuracy: 0.5460 - val_loss: 40.7655 - val_accuracy: 0.3428\n",
      "Epoch 34/50\n",
      "135/135 [==============================] - 234s 2s/step - loss: 13.3593 - accuracy: 0.6027 - val_loss: 37.2214 - val_accuracy: 0.3371\n",
      "Epoch 35/50\n",
      "135/135 [==============================] - 237s 2s/step - loss: 11.9304 - accuracy: 0.6138 - val_loss: 42.0573 - val_accuracy: 0.1288\n",
      "Epoch 36/50\n",
      "135/135 [==============================] - 243s 2s/step - loss: 15.3925 - accuracy: 0.5586 - val_loss: 27.8242 - val_accuracy: 0.2746\n",
      "Epoch 37/50\n",
      "135/135 [==============================] - 244s 2s/step - loss: 14.9452 - accuracy: 0.5651 - val_loss: 43.3787 - val_accuracy: 0.3295\n",
      "Epoch 38/50\n",
      "135/135 [==============================] - 246s 2s/step - loss: 14.3206 - accuracy: 0.5934 - val_loss: 27.2117 - val_accuracy: 0.2348\n",
      "Epoch 39/50\n",
      "135/135 [==============================] - 240s 2s/step - loss: 13.2456 - accuracy: 0.6092 - val_loss: 36.6607 - val_accuracy: 0.3258\n",
      "Epoch 40/50\n",
      "135/135 [==============================] - 229s 2s/step - loss: 12.4707 - accuracy: 0.6115 - val_loss: 29.6393 - val_accuracy: 0.2860\n",
      "Epoch 41/50\n",
      "135/135 [==============================] - 228s 2s/step - loss: 16.8555 - accuracy: 0.5507 - val_loss: 64.8790 - val_accuracy: 0.4148\n",
      "Epoch 42/50\n",
      "135/135 [==============================] - 229s 2s/step - loss: 15.8625 - accuracy: 0.5702 - val_loss: 34.1853 - val_accuracy: 0.4072\n",
      "Epoch 43/50\n",
      "135/135 [==============================] - 231s 2s/step - loss: 15.3980 - accuracy: 0.5623 - val_loss: 39.4355 - val_accuracy: 0.3447\n",
      "Epoch 44/50\n",
      "135/135 [==============================] - 227s 2s/step - loss: 11.8732 - accuracy: 0.6190 - val_loss: 27.4705 - val_accuracy: 0.2311\n",
      "Epoch 45/50\n",
      "135/135 [==============================] - 229s 2s/step - loss: 15.0508 - accuracy: 0.5678 - val_loss: 32.8895 - val_accuracy: 0.3447\n",
      "Epoch 46/50\n",
      "135/135 [==============================] - 229s 2s/step - loss: 12.1964 - accuracy: 0.6087 - val_loss: 29.4350 - val_accuracy: 0.3144\n",
      "Epoch 47/50\n",
      "135/135 [==============================] - 230s 2s/step - loss: 13.9943 - accuracy: 0.5874 - val_loss: 43.8368 - val_accuracy: 0.3807\n",
      "Epoch 48/50\n",
      "135/135 [==============================] - 230s 2s/step - loss: 12.5711 - accuracy: 0.6073 - val_loss: 29.7811 - val_accuracy: 0.2614\n",
      "Epoch 49/50\n",
      "135/135 [==============================] - 223s 2s/step - loss: 12.5439 - accuracy: 0.6073 - val_loss: 32.1306 - val_accuracy: 0.1989\n",
      "Epoch 50/50\n",
      "135/135 [==============================] - 217s 2s/step - loss: 13.3138 - accuracy: 0.5971 - val_loss: 50.4915 - val_accuracy: 0.4148\n"
     ]
    },
    {
     "name": "stderr",
     "output_type": "stream",
     "text": [
      "c:\\Users\\kathi\\anaconda3\\envs\\alzhedisease\\lib\\site-packages\\keras\\src\\engine\\training.py:3000: UserWarning: You are saving your model as an HDF5 file via `model.save()`. This file format is considered legacy. We recommend using instead the native Keras format, e.g. `model.save('my_model.keras')`.\n",
      "  saving_api.save_model(\n"
     ]
    }
   ],
   "source": [
    "try:\n",
    "    config = ConfigurationManager()\n",
    "    training_config = config.get_training_config()\n",
    "    training = Training(config=training_config)\n",
    "    training.get_base_model()\n",
    "    training.train_valid_generator()\n",
    "    training.train()\n",
    "    \n",
    "except Exception as e:\n",
    "    raise e\n"
   ]
  },
  {
   "cell_type": "code",
   "execution_count": null,
   "metadata": {},
   "outputs": [],
   "source": []
  }
 ],
 "metadata": {
  "kernelspec": {
   "display_name": "alzhedisease",
   "language": "python",
   "name": "python3"
  },
  "language_info": {
   "codemirror_mode": {
    "name": "ipython",
    "version": 3
   },
   "file_extension": ".py",
   "mimetype": "text/x-python",
   "name": "python",
   "nbconvert_exporter": "python",
   "pygments_lexer": "ipython3",
   "version": "3.8.0"
  }
 },
 "nbformat": 4,
 "nbformat_minor": 2
}
